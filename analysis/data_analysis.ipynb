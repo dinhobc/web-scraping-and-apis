import pandas as pd
import matplotlib.pyplot as plt

# Carregar dados fictícios
data = pd.DataFrame({
    "Categoria": ["A", "B", "C"],
    "Valores": [100, 200, 150]
})

# Gráfico de barras
plt.bar(data["Categoria"], data["Valores"])
plt.title("Exemplo de Gráfico")
plt.show()